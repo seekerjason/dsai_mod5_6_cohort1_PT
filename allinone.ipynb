{
 "cells": [
  {
   "cell_type": "code",
   "execution_count": null,
   "metadata": {
    "colab": {
     "base_uri": "https://localhost:8080/"
    },
    "executionInfo": {
     "elapsed": 73758,
     "status": "ok",
     "timestamp": 1747465882591,
     "user": {
      "displayName": "jobs jason",
      "userId": "17538017401633293982"
     },
     "user_tz": -480
    },
    "id": "JzG-3nviVQTM",
    "outputId": "58b37abb-0e7a-4105-ece4-71a49a1a6166"
   },
   "outputs": [],
   "source": [
    "!curl https://ollama.ai/install.sh | sh\n",
    "\n",
    "!echo 'debconf debconf/frontend select Noninteractive' | sudo debconf-set-selections\n",
    "!sudo apt-get update && sudo apt-get install -y cuda-drivers\n",
    "\n",
    "import os\n",
    "\n",
    "# Set LD_LIBRARY_PATH so the system NVIDIA library\n",
    "os.environ.update({'LD_LIBRARY_PATH': '/usr/lib64-nvidia'})"
   ]
  },
  {
   "cell_type": "code",
   "execution_count": null,
   "metadata": {
    "colab": {
     "base_uri": "https://localhost:8080/"
    },
    "executionInfo": {
     "elapsed": 112,
     "status": "ok",
     "timestamp": 1747465888476,
     "user": {
      "displayName": "jobs jason",
      "userId": "17538017401633293982"
     },
     "user_tz": -480
    },
    "id": "0oEhDdPXVamH",
    "outputId": "9d5e2be3-b30d-49a9-c728-57f8ff90ac6b"
   },
   "outputs": [],
   "source": [
    "# start server\n",
    "!nohup ollama serve &"
   ]
  },
  {
   "cell_type": "code",
   "execution_count": null,
   "metadata": {
    "colab": {
     "base_uri": "https://localhost:8080/"
    },
    "executionInfo": {
     "elapsed": 19609,
     "status": "ok",
     "timestamp": 1747465909924,
     "user": {
      "displayName": "jobs jason",
      "userId": "17538017401633293982"
     },
     "user_tz": -480
    },
    "id": "O5toc_VkVffm",
    "outputId": "d5df3de7-b783-42c1-fe25-178c06460fea"
   },
   "outputs": [],
   "source": [
    "# pull deepseek-r1:32b\n",
    "!ollama pull deepseek-r1:1.5b"
   ]
  },
  {
   "cell_type": "code",
   "execution_count": null,
   "metadata": {
    "colab": {
     "base_uri": "https://localhost:8080/"
    },
    "executionInfo": {
     "elapsed": 3757,
     "status": "ok",
     "timestamp": 1747465916196,
     "user": {
      "displayName": "jobs jason",
      "userId": "17538017401633293982"
     },
     "user_tz": -480
    },
    "id": "gVqz0C36V14U",
    "outputId": "09ca1f12-86a9-4a46-c021-84666879f3e5"
   },
   "outputs": [],
   "source": [
    "!pip install ollama"
   ]
  },
  {
   "cell_type": "markdown",
   "metadata": {
    "id": "3WGuD1_CJ4Ob"
   },
   "source": [
    "# New Section"
   ]
  },
  {
   "cell_type": "code",
   "execution_count": null,
   "metadata": {
    "colab": {
     "background_save": true
    },
    "id": "n0CMtBUqV75y"
   },
   "outputs": [],
   "source": [
    "import ollama\n",
    "\n",
    "response = ollama.chat(model='deepseek-r1:1.5b', messages=[\n",
    "  {\n",
    "    'role': 'user',\n",
    "    'content': \"How many r's are in a strawberry?\",\n",
    "  },\n",
    "])\n",
    "print(response['message']['content'])"
   ]
  },
  {
   "cell_type": "code",
   "execution_count": null,
   "metadata": {
    "id": "PNhC3YCNlaDr"
   },
   "outputs": [],
   "source": [
    "import google.generativeai as genai\n",
    "from google.colab import userdata\n",
    "gemini_api = userdata.get('gemini')\n",
    "genai.configure(api_key=gemini_api)\n",
    "geminimodel= genai.GenerativeModel(\"gemini-2.0-flash\") #gemini-1.5-flash obsoleted\n"
   ]
  },
  {
   "cell_type": "code",
   "execution_count": null,
   "metadata": {
    "id": "3Gqmj-cUsbfI"
   },
   "outputs": [],
   "source": [
    "import torch\n",
    "from diffusers import StableDiffusionPipeline\n",
    "pipe = StableDiffusionPipeline.from_pretrained(\"CompVis/stable-diffusion-v1-4\", torch_dtype=torch.float16)\n",
    "stablemodel= pipe.to(\"cuda\")"
   ]
  },
  {
   "cell_type": "code",
   "execution_count": null,
   "metadata": {
    "colab": {
     "background_save": true
    },
    "id": "mDXzk9L4Bqw3"
   },
   "outputs": [],
   "source": [
    "import transformers\n",
    "model_id=\"aisingapore/Llama-SEA-LION-v3.5-8B-R\"\n",
    "\n",
    "sealion = transformers.pipeline(\n",
    "    \"text-generation\",\n",
    "    model=model_id,\n",
    "    model_kwargs={\"torch_dtype\": torch.bfloat16},\n",
    "    device_map=\"auto\",\n",
    ")"
   ]
  },
  {
   "cell_type": "code",
   "execution_count": null,
   "metadata": {
    "colab": {
     "base_uri": "https://localhost:8080/",
     "height": 1000,
     "referenced_widgets": [
      "030a3ddf2af54bbcb5fcc2704cd98d4b",
      "7cc7e39b999240ea81c037ba27c242be",
      "fa523a6ce68c4416a2e442bd74009b47",
      "b9059ba69aac4be5a6a642d5bc5d285f",
      "cbbdd54094e2474a8807233a93f9e7f9",
      "da0a274ebaa344738a0c72b192347085",
      "60d93592da4545c2a67b386a6b6dffc5",
      "6d8345fdf6a347c7bfcaf9abc45d93ae",
      "b83fa385bdc642f98fa352d79710097e",
      "f59da15db2d040c0a6286eaa011ae167",
      "8cd4e0874cd84f91aeb536ffd3a86363"
     ]
    },
    "executionInfo": {
     "elapsed": 153992,
     "status": "error",
     "timestamp": 1747459965779,
     "user": {
      "displayName": "jobs jason",
      "userId": "17538017401633293982"
     },
     "user_tz": -480
    },
    "id": "hBZe6j3jXi8h",
    "outputId": "195fdfbb-6c2e-4466-f98d-219e34b02daf"
   },
   "outputs": [
    {
     "name": "stdout",
     "output_type": "stream",
     "text": [
      "<Response [200]>\n",
      "firstid=257,CHAT_ID=7547877715\n",
      "firstid=257,CHAT_ID=7547877715\n",
      "firstid=257,CHAT_ID=7547877715\n",
      "firstid=257,CHAT_ID=7547877715\n",
      "firstid=257,CHAT_ID=7547877715\n",
      "firstid=257,CHAT_ID=7547877715\n"
     ]
    },
    {
     "data": {
      "application/vnd.jupyter.widget-view+json": {
       "model_id": "030a3ddf2af54bbcb5fcc2704cd98d4b",
       "version_major": 2,
       "version_minor": 0
      },
      "text/plain": [
       "  0%|          | 0/50 [00:00<?, ?it/s]"
      ]
     },
     "metadata": {},
     "output_type": "display_data"
    },
    {
     "name": "stdout",
     "output_type": "stream",
     "text": [
      "firstid=261,CHAT_ID=7547877715\n",
      "firstid=261,CHAT_ID=7547877715\n",
      "firstid=261,CHAT_ID=7547877715\n",
      "firstid=261,CHAT_ID=7547877715\n",
      "firstid=261,CHAT_ID=7547877715\n",
      "firstid=261,CHAT_ID=7547877715\n",
      "firstid=261,CHAT_ID=7547877715\n",
      "firstid=261,CHAT_ID=7547877715\n",
      "firstid=261,CHAT_ID=7547877715\n",
      "firstid=261,CHAT_ID=7547877715\n",
      "firstid=261,CHAT_ID=7547877715\n",
      "firstid=261,CHAT_ID=7547877715\n",
      "firstid=261,CHAT_ID=7547877715\n",
      "firstid=261,CHAT_ID=7547877715\n",
      "firstid=261,CHAT_ID=7547877715\n",
      "firstid=261,CHAT_ID=7547877715\n",
      "firstid=261,CHAT_ID=7547877715\n",
      "firstid=261,CHAT_ID=7547877715\n",
      "firstid=261,CHAT_ID=7547877715\n",
      "firstid=261,CHAT_ID=7547877715\n",
      "firstid=261,CHAT_ID=7547877715\n",
      "firstid=261,CHAT_ID=7547877715\n",
      "firstid=261,CHAT_ID=7547877715\n",
      "firstid=261,CHAT_ID=7547877715\n",
      "firstid=261,CHAT_ID=7547877715\n",
      "firstid=261,CHAT_ID=7547877715\n",
      "firstid=261,CHAT_ID=7547877715\n",
      "firstid=261,CHAT_ID=7547877715\n",
      "firstid=261,CHAT_ID=7547877715\n",
      "firstid=261,CHAT_ID=7547877715\n",
      "firstid=261,CHAT_ID=7547877715\n",
      "firstid=261,CHAT_ID=7547877715\n",
      "firstid=261,CHAT_ID=7547877715\n",
      "firstid=261,CHAT_ID=7547877715\n",
      "firstid=261,CHAT_ID=7547877715\n",
      "firstid=261,CHAT_ID=7547877715\n",
      "firstid=261,CHAT_ID=7547877715\n",
      "firstid=261,CHAT_ID=7547877715\n",
      "firstid=261,CHAT_ID=7547877715\n",
      "firstid=261,CHAT_ID=7547877715\n",
      "firstid=261,CHAT_ID=7547877715\n",
      "firstid=261,CHAT_ID=7547877715\n",
      "firstid=261,CHAT_ID=7547877715\n",
      "firstid=261,CHAT_ID=7547877715\n",
      "firstid=261,CHAT_ID=7547877715\n",
      "firstid=261,CHAT_ID=7547877715\n",
      "firstid=261,CHAT_ID=7547877715\n",
      "firstid=261,CHAT_ID=7547877715\n",
      "firstid=261,CHAT_ID=7547877715\n",
      "firstid=261,CHAT_ID=7547877715\n",
      "firstid=261,CHAT_ID=7547877715\n",
      "firstid=261,CHAT_ID=7547877715\n",
      "firstid=261,CHAT_ID=7547877715\n",
      "firstid=261,CHAT_ID=7547877715\n",
      "firstid=261,CHAT_ID=7547877715\n",
      "firstid=261,CHAT_ID=7547877715\n",
      "firstid=261,CHAT_ID=7547877715\n",
      "firstid=261,CHAT_ID=7547877715\n",
      "firstid=261,CHAT_ID=7547877715\n",
      "firstid=261,CHAT_ID=7547877715\n",
      "firstid=261,CHAT_ID=7547877715\n",
      "firstid=261,CHAT_ID=7547877715\n",
      "firstid=261,CHAT_ID=7547877715\n",
      "firstid=261,CHAT_ID=7547877715\n",
      "firstid=261,CHAT_ID=7547877715\n",
      "firstid=261,CHAT_ID=7547877715\n",
      "firstid=261,CHAT_ID=7547877715\n",
      "firstid=261,CHAT_ID=7547877715\n",
      "firstid=261,CHAT_ID=7547877715\n",
      "firstid=261,CHAT_ID=7547877715\n",
      "firstid=261,CHAT_ID=7547877715\n",
      "firstid=261,CHAT_ID=7547877715\n",
      "firstid=261,CHAT_ID=7547877715\n",
      "firstid=261,CHAT_ID=7547877715\n",
      "firstid=261,CHAT_ID=7547877715\n",
      "firstid=261,CHAT_ID=7547877715\n",
      "firstid=261,CHAT_ID=7547877715\n",
      "firstid=261,CHAT_ID=7547877715\n",
      "firstid=261,CHAT_ID=7547877715\n",
      "firstid=261,CHAT_ID=7547877715\n",
      "firstid=261,CHAT_ID=7547877715\n",
      "firstid=261,CHAT_ID=7547877715\n",
      "firstid=261,CHAT_ID=7547877715\n"
     ]
    },
    {
     "ename": "KeyboardInterrupt",
     "evalue": "",
     "output_type": "error",
     "traceback": [
      "\u001b[0;31m---------------------------------------------------------------------------\u001b[0m",
      "\u001b[0;31mKeyboardInterrupt\u001b[0m                         Traceback (most recent call last)",
      "\u001b[0;32m<ipython-input-26-ecba3fb28e84>\u001b[0m in \u001b[0;36m<cell line: 0>\u001b[0;34m()\u001b[0m\n\u001b[1;32m     20\u001b[0m     \u001b[0;31m#while True:\u001b[0m\u001b[0;34m\u001b[0m\u001b[0;34m\u001b[0m\u001b[0m\n\u001b[1;32m     21\u001b[0m     \u001b[0mr1\u001b[0m\u001b[0;34m=\u001b[0m\u001b[0mrequests\u001b[0m\u001b[0;34m.\u001b[0m\u001b[0mget\u001b[0m\u001b[0;34m(\u001b[0m\u001b[0murl\u001b[0m\u001b[0;34m+\u001b[0m\u001b[0;34m\"/getUpdates\"\u001b[0m\u001b[0;34m)\u001b[0m\u001b[0;34m\u001b[0m\u001b[0;34m\u001b[0m\u001b[0m\n\u001b[0;32m---> 22\u001b[0;31m     \u001b[0mtime\u001b[0m\u001b[0;34m.\u001b[0m\u001b[0msleep\u001b[0m\u001b[0;34m(\u001b[0m\u001b[0;36m1\u001b[0m\u001b[0;34m)\u001b[0m\u001b[0;34m\u001b[0m\u001b[0;34m\u001b[0m\u001b[0m\n\u001b[0m\u001b[1;32m     23\u001b[0m     \u001b[0;31m#print(r.json())\u001b[0m\u001b[0;34m\u001b[0m\u001b[0;34m\u001b[0m\u001b[0m\n\u001b[1;32m     24\u001b[0m     \u001b[0mr1\u001b[0m\u001b[0;34m=\u001b[0m\u001b[0mr1\u001b[0m\u001b[0;34m.\u001b[0m\u001b[0mjson\u001b[0m\u001b[0;34m(\u001b[0m\u001b[0;34m)\u001b[0m\u001b[0;34m\u001b[0m\u001b[0;34m\u001b[0m\u001b[0m\n",
      "\u001b[0;31mKeyboardInterrupt\u001b[0m: "
     ]
    }
   ],
   "source": [
    "# Configure telegram API\n",
    "import json\n",
    "import requests, time\n",
    "from google.colab import userdata\n",
    "telegram_api_key=userdata.get(\"telegram_key\")\n",
    "url=f\"https://api.telegram.org/bot{telegram_api_key}\"\n",
    "\n",
    "# Read from Telegram message queue\n",
    "r=requests.get(url+\"/getUpdates\")\n",
    "print(f\"{r}\")\n",
    "r=r.json()\n",
    "r=r['result']\n",
    "chat_id=r[-1]['message']['chat']['id']\n",
    "\n",
    "# Create a loop routine to simulate the chatbot\n",
    "firstmsgid=0\n",
    "\n",
    "while True:\n",
    "    if firstmsgid == 0:\n",
    "      r=requests.get(url+f\"/sendMessage?chat_id={chat_id}&text={'type [question] with model selection [Sealion or Gemin or DeepSeek or Stable] at latest or type [quit]'}\")\n",
    "\n",
    "    #while True:\n",
    "    r1=requests.get(url+\"/getUpdates\")\n",
    "    time.sleep(1)\n",
    "    #print(r.json())\n",
    "    r1=r1.json()\n",
    "    r1=r1[\"result\"][-1]['message']\n",
    "    q=r1['text']\n",
    "    msg_id=r1['message_id']\n",
    "\n",
    "    if firstmsgid==0 or firstmsgid==msg_id:\n",
    "      firstmsgid=msg_id\n",
    "      print(f\"firstid={firstmsgid},CHAT_ID={r1['chat']['id']}\")\n",
    "      continue\n",
    "    elif firstmsgid<msg_id:\n",
    "      firstmsgid=msg_id\n",
    "\n",
    "    if q=='quit':\n",
    "        print(f\"msg={q}\")\n",
    "        r2=requests.get(url+f\"/sendMessage?chat_id={chat_id}&text={'Bye'}\")\n",
    "        break\n",
    "    else:\n",
    "      q=str.lower(q)\n",
    "      qr=q.split(\" \")\n",
    "      modelstr=qr[-1]\n",
    "      if modelstr=='stable':\n",
    "        q=q.replace('stable',\"\")\n",
    "        image = stablemodel(q).images[0]\n",
    "        image.save(\"/content/img.png\")\n",
    "        image_caption=\"stable-diffusion\"\n",
    "        data={\"chat_id\":chat_id,\"caption\":image_caption}\n",
    "        #r2=model.generate_content(q)\n",
    "        url2=url+f\"/sendPhoto?chat_id={chat_id}\"\n",
    "        with open(\"/content/img.png\", \"rb\") as f:\n",
    "          ret=requests.post(url2, files={\"photo\":f}, data=data)\n",
    "      else:\n",
    "        if modelstr=='deepseek':\n",
    "          q=q.replace('deepseek',\"\")\n",
    "          response = ollama.chat(model='deepseek-r1:1.5b', messages=[\n",
    "            {\n",
    "              'role': 'user',\n",
    "              'content': q,\n",
    "            },\n",
    "          ])\n",
    "          msg=response['message']['content']\n",
    "        elif modelstr=='gemini':\n",
    "          q.replace('gemini', \"\")\n",
    "          r2=geminimodel.generate_content(q)\n",
    "          msg=r2.text\n",
    "        elif modelstr=='sealion': #stablediffusion\n",
    "          q=q.replace('sealion',\"\")\n",
    "          messages = [{\"role\": \"user\", \"content\":q}]\n",
    "\n",
    "          outputs = sealion(\n",
    "              messages,\n",
    "              max_new_tokens=256,\n",
    "          )\n",
    "\n",
    "          print(outputs[0][\"generated_text\"][-1])\n",
    "          msg=outputs[0]['generated_text'][-1]['content']\n",
    "        else:\n",
    "          msg=f\"Unknown model marker {modelstr}\"\n",
    "        r2=requests.get(url+f\"/sendMessage?chat_id={chat_id}&text={msg}\")\n",
    "\n",
    "      r=requests.get(url+f\"/sendMessage?chat_id={chat_id}&text={'type [question] with model selection [Sealion or GGemin or DeepSeek or Stable] at latest or type [quit]'}\")\n",
    "\n",
    "print(\"End\")"
   ]
  }
 ],
 "metadata": {
  "accelerator": "GPU",
  "colab": {
   "authorship_tag": "ABX9TyO0nPi2GZYi7eHHrtQXQtNl",
   "gpuType": "T4",
   "provenance": []
  },
  "kernelspec": {
   "display_name": "Python 3",
   "name": "python3"
  },
  "language_info": {
   "name": "python"
  },
  "widgets": {
   "application/vnd.jupyter.widget-state+json": {
    "030a3ddf2af54bbcb5fcc2704cd98d4b": {
     "model_module": "@jupyter-widgets/controls",
     "model_module_version": "1.5.0",
     "model_name": "HBoxModel",
     "state": {
      "_dom_classes": [],
      "_model_module": "@jupyter-widgets/controls",
      "_model_module_version": "1.5.0",
      "_model_name": "HBoxModel",
      "_view_count": null,
      "_view_module": "@jupyter-widgets/controls",
      "_view_module_version": "1.5.0",
      "_view_name": "HBoxView",
      "box_style": "",
      "children": [
       "IPY_MODEL_7cc7e39b999240ea81c037ba27c242be",
       "IPY_MODEL_fa523a6ce68c4416a2e442bd74009b47",
       "IPY_MODEL_b9059ba69aac4be5a6a642d5bc5d285f"
      ],
      "layout": "IPY_MODEL_cbbdd54094e2474a8807233a93f9e7f9"
     }
    },
    "60d93592da4545c2a67b386a6b6dffc5": {
     "model_module": "@jupyter-widgets/controls",
     "model_module_version": "1.5.0",
     "model_name": "DescriptionStyleModel",
     "state": {
      "_model_module": "@jupyter-widgets/controls",
      "_model_module_version": "1.5.0",
      "_model_name": "DescriptionStyleModel",
      "_view_count": null,
      "_view_module": "@jupyter-widgets/base",
      "_view_module_version": "1.2.0",
      "_view_name": "StyleView",
      "description_width": ""
     }
    },
    "6d8345fdf6a347c7bfcaf9abc45d93ae": {
     "model_module": "@jupyter-widgets/base",
     "model_module_version": "1.2.0",
     "model_name": "LayoutModel",
     "state": {
      "_model_module": "@jupyter-widgets/base",
      "_model_module_version": "1.2.0",
      "_model_name": "LayoutModel",
      "_view_count": null,
      "_view_module": "@jupyter-widgets/base",
      "_view_module_version": "1.2.0",
      "_view_name": "LayoutView",
      "align_content": null,
      "align_items": null,
      "align_self": null,
      "border": null,
      "bottom": null,
      "display": null,
      "flex": null,
      "flex_flow": null,
      "grid_area": null,
      "grid_auto_columns": null,
      "grid_auto_flow": null,
      "grid_auto_rows": null,
      "grid_column": null,
      "grid_gap": null,
      "grid_row": null,
      "grid_template_areas": null,
      "grid_template_columns": null,
      "grid_template_rows": null,
      "height": null,
      "justify_content": null,
      "justify_items": null,
      "left": null,
      "margin": null,
      "max_height": null,
      "max_width": null,
      "min_height": null,
      "min_width": null,
      "object_fit": null,
      "object_position": null,
      "order": null,
      "overflow": null,
      "overflow_x": null,
      "overflow_y": null,
      "padding": null,
      "right": null,
      "top": null,
      "visibility": null,
      "width": null
     }
    },
    "7cc7e39b999240ea81c037ba27c242be": {
     "model_module": "@jupyter-widgets/controls",
     "model_module_version": "1.5.0",
     "model_name": "HTMLModel",
     "state": {
      "_dom_classes": [],
      "_model_module": "@jupyter-widgets/controls",
      "_model_module_version": "1.5.0",
      "_model_name": "HTMLModel",
      "_view_count": null,
      "_view_module": "@jupyter-widgets/controls",
      "_view_module_version": "1.5.0",
      "_view_name": "HTMLView",
      "description": "",
      "description_tooltip": null,
      "layout": "IPY_MODEL_da0a274ebaa344738a0c72b192347085",
      "placeholder": "​",
      "style": "IPY_MODEL_60d93592da4545c2a67b386a6b6dffc5",
      "value": "100%"
     }
    },
    "8cd4e0874cd84f91aeb536ffd3a86363": {
     "model_module": "@jupyter-widgets/controls",
     "model_module_version": "1.5.0",
     "model_name": "DescriptionStyleModel",
     "state": {
      "_model_module": "@jupyter-widgets/controls",
      "_model_module_version": "1.5.0",
      "_model_name": "DescriptionStyleModel",
      "_view_count": null,
      "_view_module": "@jupyter-widgets/base",
      "_view_module_version": "1.2.0",
      "_view_name": "StyleView",
      "description_width": ""
     }
    },
    "b83fa385bdc642f98fa352d79710097e": {
     "model_module": "@jupyter-widgets/controls",
     "model_module_version": "1.5.0",
     "model_name": "ProgressStyleModel",
     "state": {
      "_model_module": "@jupyter-widgets/controls",
      "_model_module_version": "1.5.0",
      "_model_name": "ProgressStyleModel",
      "_view_count": null,
      "_view_module": "@jupyter-widgets/base",
      "_view_module_version": "1.2.0",
      "_view_name": "StyleView",
      "bar_color": null,
      "description_width": ""
     }
    },
    "b9059ba69aac4be5a6a642d5bc5d285f": {
     "model_module": "@jupyter-widgets/controls",
     "model_module_version": "1.5.0",
     "model_name": "HTMLModel",
     "state": {
      "_dom_classes": [],
      "_model_module": "@jupyter-widgets/controls",
      "_model_module_version": "1.5.0",
      "_model_name": "HTMLModel",
      "_view_count": null,
      "_view_module": "@jupyter-widgets/controls",
      "_view_module_version": "1.5.0",
      "_view_name": "HTMLView",
      "description": "",
      "description_tooltip": null,
      "layout": "IPY_MODEL_f59da15db2d040c0a6286eaa011ae167",
      "placeholder": "​",
      "style": "IPY_MODEL_8cd4e0874cd84f91aeb536ffd3a86363",
      "value": " 50/50 [00:07&lt;00:00,  7.22it/s]"
     }
    },
    "cbbdd54094e2474a8807233a93f9e7f9": {
     "model_module": "@jupyter-widgets/base",
     "model_module_version": "1.2.0",
     "model_name": "LayoutModel",
     "state": {
      "_model_module": "@jupyter-widgets/base",
      "_model_module_version": "1.2.0",
      "_model_name": "LayoutModel",
      "_view_count": null,
      "_view_module": "@jupyter-widgets/base",
      "_view_module_version": "1.2.0",
      "_view_name": "LayoutView",
      "align_content": null,
      "align_items": null,
      "align_self": null,
      "border": null,
      "bottom": null,
      "display": null,
      "flex": null,
      "flex_flow": null,
      "grid_area": null,
      "grid_auto_columns": null,
      "grid_auto_flow": null,
      "grid_auto_rows": null,
      "grid_column": null,
      "grid_gap": null,
      "grid_row": null,
      "grid_template_areas": null,
      "grid_template_columns": null,
      "grid_template_rows": null,
      "height": null,
      "justify_content": null,
      "justify_items": null,
      "left": null,
      "margin": null,
      "max_height": null,
      "max_width": null,
      "min_height": null,
      "min_width": null,
      "object_fit": null,
      "object_position": null,
      "order": null,
      "overflow": null,
      "overflow_x": null,
      "overflow_y": null,
      "padding": null,
      "right": null,
      "top": null,
      "visibility": null,
      "width": null
     }
    },
    "da0a274ebaa344738a0c72b192347085": {
     "model_module": "@jupyter-widgets/base",
     "model_module_version": "1.2.0",
     "model_name": "LayoutModel",
     "state": {
      "_model_module": "@jupyter-widgets/base",
      "_model_module_version": "1.2.0",
      "_model_name": "LayoutModel",
      "_view_count": null,
      "_view_module": "@jupyter-widgets/base",
      "_view_module_version": "1.2.0",
      "_view_name": "LayoutView",
      "align_content": null,
      "align_items": null,
      "align_self": null,
      "border": null,
      "bottom": null,
      "display": null,
      "flex": null,
      "flex_flow": null,
      "grid_area": null,
      "grid_auto_columns": null,
      "grid_auto_flow": null,
      "grid_auto_rows": null,
      "grid_column": null,
      "grid_gap": null,
      "grid_row": null,
      "grid_template_areas": null,
      "grid_template_columns": null,
      "grid_template_rows": null,
      "height": null,
      "justify_content": null,
      "justify_items": null,
      "left": null,
      "margin": null,
      "max_height": null,
      "max_width": null,
      "min_height": null,
      "min_width": null,
      "object_fit": null,
      "object_position": null,
      "order": null,
      "overflow": null,
      "overflow_x": null,
      "overflow_y": null,
      "padding": null,
      "right": null,
      "top": null,
      "visibility": null,
      "width": null
     }
    },
    "f59da15db2d040c0a6286eaa011ae167": {
     "model_module": "@jupyter-widgets/base",
     "model_module_version": "1.2.0",
     "model_name": "LayoutModel",
     "state": {
      "_model_module": "@jupyter-widgets/base",
      "_model_module_version": "1.2.0",
      "_model_name": "LayoutModel",
      "_view_count": null,
      "_view_module": "@jupyter-widgets/base",
      "_view_module_version": "1.2.0",
      "_view_name": "LayoutView",
      "align_content": null,
      "align_items": null,
      "align_self": null,
      "border": null,
      "bottom": null,
      "display": null,
      "flex": null,
      "flex_flow": null,
      "grid_area": null,
      "grid_auto_columns": null,
      "grid_auto_flow": null,
      "grid_auto_rows": null,
      "grid_column": null,
      "grid_gap": null,
      "grid_row": null,
      "grid_template_areas": null,
      "grid_template_columns": null,
      "grid_template_rows": null,
      "height": null,
      "justify_content": null,
      "justify_items": null,
      "left": null,
      "margin": null,
      "max_height": null,
      "max_width": null,
      "min_height": null,
      "min_width": null,
      "object_fit": null,
      "object_position": null,
      "order": null,
      "overflow": null,
      "overflow_x": null,
      "overflow_y": null,
      "padding": null,
      "right": null,
      "top": null,
      "visibility": null,
      "width": null
     }
    },
    "fa523a6ce68c4416a2e442bd74009b47": {
     "model_module": "@jupyter-widgets/controls",
     "model_module_version": "1.5.0",
     "model_name": "FloatProgressModel",
     "state": {
      "_dom_classes": [],
      "_model_module": "@jupyter-widgets/controls",
      "_model_module_version": "1.5.0",
      "_model_name": "FloatProgressModel",
      "_view_count": null,
      "_view_module": "@jupyter-widgets/controls",
      "_view_module_version": "1.5.0",
      "_view_name": "ProgressView",
      "bar_style": "success",
      "description": "",
      "description_tooltip": null,
      "layout": "IPY_MODEL_6d8345fdf6a347c7bfcaf9abc45d93ae",
      "max": 50,
      "min": 0,
      "orientation": "horizontal",
      "style": "IPY_MODEL_b83fa385bdc642f98fa352d79710097e",
      "value": 50
     }
    }
   }
  }
 },
 "nbformat": 4,
 "nbformat_minor": 0
}
